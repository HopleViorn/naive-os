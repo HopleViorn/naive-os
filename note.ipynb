{
 "cells": [
  {
   "attachments": {},
   "cell_type": "markdown",
   "metadata": {},
   "source": [
    "#define EI_NIDENT       16\n",
    "typedef struct elf64_hdr {\n",
    "    unsigned char e_ident[EI_NIDENT];     /* ELF \"magic number\" */\n",
    "    Elf64_Half e_type;\n",
    "    Elf64_Half e_machine;\n",
    "    Elf64_Word e_version;\n",
    "    Elf64_Addr e_entry;           /* Entry point virtual address */\n",
    "    Elf64_Off e_phoff;            /* Program header table file offset */\n",
    "    Elf64_Off e_shoff;            /* Section header table file offset */\n",
    "    Elf64_Word e_flags;\n",
    "    Elf64_Half e_ehsize;\n",
    "    Elf64_Half e_phentsize;\n",
    "    Elf64_Half e_phnum;\n",
    "    Elf64_Half e_shentsize;\n",
    "    Elf64_Half e_shnum;\n",
    "    Elf64_Half e_shstrndx;\n",
    "} Elf64_Ehdr;"
   ]
  }
 ],
 "metadata": {
  "language_info": {
   "name": "python"
  },
  "orig_nbformat": 4
 },
 "nbformat": 4,
 "nbformat_minor": 2
}
